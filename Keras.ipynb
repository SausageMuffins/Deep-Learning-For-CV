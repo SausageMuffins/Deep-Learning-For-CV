{
 "cells": [
  {
   "attachments": {},
   "cell_type": "markdown",
   "metadata": {},
   "source": []
  },
  {
   "cell_type": "code",
   "execution_count": 16,
   "metadata": {},
   "outputs": [],
   "source": [
    "import numpy as np\n",
    "from numpy import genfromtxt\n",
    "\n",
    "from sklearn.model_selection import train_test_split # for splitting data into train and test sets\n",
    "from sklearn.preprocessing import MinMaxScaler # for normalization/scaling\n",
    "from sklearn.metrics import confusion_matrix, classification_report # for reporting metrics\n",
    "\n",
    "import tensorflow as tf\n",
    "from keras.models import Sequential # model type to be used\n",
    "from keras.layers import Dense # layer type to be used\n"
   ]
  },
  {
   "cell_type": "code",
   "execution_count": 2,
   "metadata": {},
   "outputs": [],
   "source": [
    "data = genfromtxt('bank_note_data.txt', delimiter=',') # Load data from file\n",
    "\n",
    "labels = data[:,4] # Labels are in the 5th column\n",
    "features = data[:,0:4] # Features are in columns 1-4"
   ]
  },
  {
   "cell_type": "code",
   "execution_count": 3,
   "metadata": {},
   "outputs": [],
   "source": [
    "X = features \n",
    "y = labels\n",
    "\n",
    "X_train, X_test, y_train, y_test = train_test_split(X, y, test_size=0.33, random_state=42) # Split data into training and testing sets\n",
    "\n",
    "scalar_object = MinMaxScaler() # Create scaler object\n",
    "scalar_object.fit(X_train) # Fit training data\n",
    "\n",
    "# scale values between 0 (min value) and 1 (max value) for both training and testing data\n",
    "scaled_X_train = scalar_object.transform(X_train) # Transform training data\n",
    "scaled_X_test = scalar_object.transform(X_test) # Transform testing data"
   ]
  },
  {
   "cell_type": "code",
   "execution_count": 8,
   "metadata": {},
   "outputs": [
    {
     "name": "stdout",
     "output_type": "stream",
     "text": [
      "Epoch 1/50\n",
      "29/29 - 0s - loss: 0.6742 - accuracy: 0.5495 - 498ms/epoch - 17ms/step\n",
      "Epoch 2/50\n",
      "29/29 - 0s - loss: 0.6702 - accuracy: 0.5495 - 31ms/epoch - 1ms/step\n",
      "Epoch 3/50\n",
      "29/29 - 0s - loss: 0.6663 - accuracy: 0.5495 - 31ms/epoch - 1ms/step\n",
      "Epoch 4/50\n",
      "29/29 - 0s - loss: 0.6615 - accuracy: 0.5517 - 32ms/epoch - 1ms/step\n",
      "Epoch 5/50\n",
      "29/29 - 0s - loss: 0.6561 - accuracy: 0.5691 - 31ms/epoch - 1ms/step\n",
      "Epoch 6/50\n",
      "29/29 - 0s - loss: 0.6488 - accuracy: 0.5734 - 31ms/epoch - 1ms/step\n",
      "Epoch 7/50\n",
      "29/29 - 0s - loss: 0.6396 - accuracy: 0.5822 - 31ms/epoch - 1ms/step\n",
      "Epoch 8/50\n",
      "29/29 - 0s - loss: 0.6281 - accuracy: 0.5919 - 31ms/epoch - 1ms/step\n",
      "Epoch 9/50\n",
      "29/29 - 0s - loss: 0.6141 - accuracy: 0.6104 - 31ms/epoch - 1ms/step\n",
      "Epoch 10/50\n",
      "29/29 - 0s - loss: 0.5978 - accuracy: 0.6746 - 31ms/epoch - 1ms/step\n",
      "Epoch 11/50\n",
      "29/29 - 0s - loss: 0.5793 - accuracy: 0.6964 - 32ms/epoch - 1ms/step\n",
      "Epoch 12/50\n",
      "29/29 - 0s - loss: 0.5598 - accuracy: 0.7639 - 31ms/epoch - 1ms/step\n",
      "Epoch 13/50\n",
      "29/29 - 0s - loss: 0.5390 - accuracy: 0.7911 - 32ms/epoch - 1ms/step\n",
      "Epoch 14/50\n",
      "29/29 - 0s - loss: 0.5182 - accuracy: 0.8128 - 31ms/epoch - 1ms/step\n",
      "Epoch 15/50\n",
      "29/29 - 0s - loss: 0.4972 - accuracy: 0.8205 - 32ms/epoch - 1ms/step\n",
      "Epoch 16/50\n",
      "29/29 - 0s - loss: 0.4780 - accuracy: 0.8411 - 31ms/epoch - 1ms/step\n",
      "Epoch 17/50\n",
      "29/29 - 0s - loss: 0.4560 - accuracy: 0.8433 - 32ms/epoch - 1ms/step\n",
      "Epoch 18/50\n",
      "29/29 - 0s - loss: 0.4343 - accuracy: 0.8607 - 30ms/epoch - 1ms/step\n",
      "Epoch 19/50\n",
      "29/29 - 0s - loss: 0.4145 - accuracy: 0.8672 - 30ms/epoch - 1ms/step\n",
      "Epoch 20/50\n",
      "29/29 - 0s - loss: 0.3953 - accuracy: 0.8716 - 30ms/epoch - 1ms/step\n",
      "Epoch 21/50\n",
      "29/29 - 0s - loss: 0.3791 - accuracy: 0.8781 - 31ms/epoch - 1ms/step\n",
      "Epoch 22/50\n",
      "29/29 - 0s - loss: 0.3640 - accuracy: 0.8803 - 30ms/epoch - 1ms/step\n",
      "Epoch 23/50\n",
      "29/29 - 0s - loss: 0.3509 - accuracy: 0.8923 - 31ms/epoch - 1ms/step\n",
      "Epoch 24/50\n",
      "29/29 - 0s - loss: 0.3365 - accuracy: 0.8945 - 32ms/epoch - 1ms/step\n",
      "Epoch 25/50\n",
      "29/29 - 0s - loss: 0.3240 - accuracy: 0.8966 - 33ms/epoch - 1ms/step\n",
      "Epoch 26/50\n",
      "29/29 - 0s - loss: 0.3127 - accuracy: 0.9032 - 33ms/epoch - 1ms/step\n",
      "Epoch 27/50\n",
      "29/29 - 0s - loss: 0.3008 - accuracy: 0.9119 - 34ms/epoch - 1ms/step\n",
      "Epoch 28/50\n",
      "29/29 - 0s - loss: 0.2909 - accuracy: 0.9173 - 33ms/epoch - 1ms/step\n",
      "Epoch 29/50\n",
      "29/29 - 0s - loss: 0.2811 - accuracy: 0.9184 - 32ms/epoch - 1ms/step\n",
      "Epoch 30/50\n",
      "29/29 - 0s - loss: 0.2717 - accuracy: 0.9249 - 32ms/epoch - 1ms/step\n",
      "Epoch 31/50\n",
      "29/29 - 0s - loss: 0.2626 - accuracy: 0.9304 - 32ms/epoch - 1ms/step\n",
      "Epoch 32/50\n",
      "29/29 - 0s - loss: 0.2540 - accuracy: 0.9347 - 32ms/epoch - 1ms/step\n",
      "Epoch 33/50\n",
      "29/29 - 0s - loss: 0.2457 - accuracy: 0.9391 - 33ms/epoch - 1ms/step\n",
      "Epoch 34/50\n",
      "29/29 - 0s - loss: 0.2383 - accuracy: 0.9358 - 39ms/epoch - 1ms/step\n",
      "Epoch 35/50\n",
      "29/29 - 0s - loss: 0.2317 - accuracy: 0.9358 - 35ms/epoch - 1ms/step\n",
      "Epoch 36/50\n",
      "29/29 - 0s - loss: 0.2234 - accuracy: 0.9402 - 31ms/epoch - 1ms/step\n",
      "Epoch 37/50\n",
      "29/29 - 0s - loss: 0.2160 - accuracy: 0.9380 - 31ms/epoch - 1ms/step\n",
      "Epoch 38/50\n",
      "29/29 - 0s - loss: 0.2085 - accuracy: 0.9423 - 30ms/epoch - 1ms/step\n",
      "Epoch 39/50\n",
      "29/29 - 0s - loss: 0.2032 - accuracy: 0.9391 - 30ms/epoch - 1ms/step\n",
      "Epoch 40/50\n",
      "29/29 - 0s - loss: 0.1940 - accuracy: 0.9423 - 31ms/epoch - 1ms/step\n",
      "Epoch 41/50\n",
      "29/29 - 0s - loss: 0.1879 - accuracy: 0.9456 - 32ms/epoch - 1ms/step\n",
      "Epoch 42/50\n",
      "29/29 - 0s - loss: 0.1813 - accuracy: 0.9456 - 31ms/epoch - 1ms/step\n",
      "Epoch 43/50\n",
      "29/29 - 0s - loss: 0.1757 - accuracy: 0.9456 - 30ms/epoch - 1ms/step\n",
      "Epoch 44/50\n",
      "29/29 - 0s - loss: 0.1713 - accuracy: 0.9456 - 30ms/epoch - 1ms/step\n",
      "Epoch 45/50\n",
      "29/29 - 0s - loss: 0.1656 - accuracy: 0.9510 - 31ms/epoch - 1ms/step\n",
      "Epoch 46/50\n",
      "29/29 - 0s - loss: 0.1605 - accuracy: 0.9499 - 31ms/epoch - 1ms/step\n",
      "Epoch 47/50\n",
      "29/29 - 0s - loss: 0.1563 - accuracy: 0.9478 - 32ms/epoch - 1ms/step\n",
      "Epoch 48/50\n",
      "29/29 - 0s - loss: 0.1524 - accuracy: 0.9478 - 29ms/epoch - 1ms/step\n",
      "Epoch 49/50\n",
      "29/29 - 0s - loss: 0.1474 - accuracy: 0.9521 - 31ms/epoch - 1ms/step\n",
      "Epoch 50/50\n",
      "29/29 - 0s - loss: 0.1440 - accuracy: 0.9532 - 30ms/epoch - 1ms/step\n"
     ]
    },
    {
     "data": {
      "text/plain": [
       "<keras.callbacks.History at 0x27e8038bd30>"
      ]
     },
     "execution_count": 8,
     "metadata": {},
     "output_type": "execute_result"
    }
   ],
   "source": [
    "# using keras and tensorflow\n",
    "\n",
    "model = Sequential() # Create model object\n",
    "\n",
    "model.add(Dense(4, input_dim=4, activation='relu')) # Add Dense layer with 4 neurons, 4 input dimensions, and relu as the activation function\n",
    "\n",
    "model.add(Dense(8, activation='relu')) # Adding a middle layer\n",
    "\n",
    "model.add(Dense(1, activation='sigmoid')) # Adding the output layer, activation function used is sigmoid\n",
    "\n",
    "model.compile(loss='binary_crossentropy', optimizer='adam', metrics=['accuracy']) # Compile model\n",
    "\n",
    "# loss function - binary_crossentropy\n",
    "# optimizer - adam\n",
    "# metrics - accuracy\n",
    "\n",
    "model.fit(scaled_X_train, y_train, epochs=50, verbose=2) # Fit model, verbose = 2 to see output\n",
    "\n",
    "predictions = (model.predict(scaled_X_test) > 0.5).astype(\"int32\") # Predictions"
   ]
  },
  {
   "cell_type": "code",
   "execution_count": 20,
   "metadata": {},
   "outputs": [
    {
     "data": {
      "text/plain": [
       "'              precision    recall  f1-score   support\\n\\n         0.0       0.95      0.98      0.97       257\\n         1.0       0.98      0.93      0.95       196\\n\\n    accuracy                           0.96       453\\n   macro avg       0.96      0.96      0.96       453\\nweighted avg       0.96      0.96      0.96       453\\n'"
      ]
     },
     "execution_count": 20,
     "metadata": {},
     "output_type": "execute_result"
    }
   ],
   "source": [
    "confusion_matrix(y_test, predictions) # Confusion matrix\n",
    "classification_report(y_test, predictions) # Classification report"
   ]
  }
 ],
 "metadata": {
  "kernelspec": {
   "display_name": "base",
   "language": "python",
   "name": "python3"
  },
  "language_info": {
   "codemirror_mode": {
    "name": "ipython",
    "version": 3
   },
   "file_extension": ".py",
   "mimetype": "text/x-python",
   "name": "python",
   "nbconvert_exporter": "python",
   "pygments_lexer": "ipython3",
   "version": "3.10.11"
  },
  "orig_nbformat": 4
 },
 "nbformat": 4,
 "nbformat_minor": 2
}
