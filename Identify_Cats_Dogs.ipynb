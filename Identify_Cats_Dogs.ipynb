{
 "cells": [
  {
   "cell_type": "code",
   "execution_count": 6,
   "metadata": {},
   "outputs": [],
   "source": [
    "import matplotlib.pyplot as plt\n",
    "import cv2\n",
    "import numpy as np\n",
    "\n",
    "from keras.preprocessing.image import ImageDataGenerator # Image Augmentation to prepare for training\n",
    "from keras.models import Sequential # Sequential model\n",
    "from keras.layers import Activation, Dropout, Conv2D, MaxPooling2D, Flatten, Dense # import layers\n",
    "from keras.models import load_model # load model\n",
    "from keras.preprocessing import image # image preprocessing"
   ]
  },
  {
   "cell_type": "code",
   "execution_count": 2,
   "metadata": {},
   "outputs": [],
   "source": [
    "# prepare the data for training\n",
    "image_gen = ImageDataGenerator(rotation_range=30, # randomly rotate the image 30 degrees\n",
    "                               width_shift_range=0.1, # randomly shift the image horizontally 10% max\n",
    "                               height_shift_range=0.1, # randomly shift the image vertically 10% max\n",
    "                               rescale=1/255, # rescale the image by normalzing it \n",
    "                               shear_range=0.2, # shear means cutting away part of the image (max 20%)\n",
    "                               zoom_range=0.2, # zoom in on the image (max 20%)\n",
    "                               horizontal_flip=True,\n",
    "                               fill_mode=\"nearest\") # fill in missing pixels with the nearest filled value\n"
   ]
  },
  {
   "cell_type": "code",
   "execution_count": 3,
   "metadata": {},
   "outputs": [],
   "source": [
    "#image_gen.flow_from_directory(\"CATS_DOGS/train\") # train directory\n",
    "\n",
    "model = Sequential()\n",
    "\n",
    "inputshape = (150, 150, 3)\n",
    "model.add(Conv2D(filters=32, kernel_size=(3,3), input_shape=inputshape, activation=\"relu\"))\n",
    "\n",
    "model.add(MaxPooling2D(pool_size=(2,2)))\n",
    "\n",
    "model.add(Conv2D(filters=64, kernel_size=(3,3), input_shape=inputshape, activation=\"relu\"))\n",
    "\n",
    "model.add(MaxPooling2D(pool_size=(2,2)))\n",
    "\n",
    "model.add(Flatten())\n",
    "model.add(Dense(128))\n",
    "model.add(Activation(\"relu\"))\n",
    "\n",
    "model.add(Dropout(0.5)) # randomly turn off 50 percent of the neurons to prevent overfitting\n",
    "\n",
    "model.add(Dense(1))\n",
    "model.add(Activation(\"sigmoid\")) # sigmoid because we are doing binary classification - same as perceptron concept\n",
    "\n",
    "model.compile(loss=\"binary_crossentropy\", optimizer=\"adam\", metrics=[\"accuracy\"])"
   ]
  },
  {
   "cell_type": "code",
   "execution_count": 4,
   "metadata": {},
   "outputs": [
    {
     "name": "stdout",
     "output_type": "stream",
     "text": [
      "Found 18743 images belonging to 2 classes.\n",
      "Found 6251 images belonging to 2 classes.\n"
     ]
    },
    {
     "data": {
      "text/plain": [
       "{'CAT': 0, 'DOG': 1}"
      ]
     },
     "execution_count": 4,
     "metadata": {},
     "output_type": "execute_result"
    }
   ],
   "source": [
    "batch_size = 16\n",
    "\n",
    "train_image_gen = image_gen.flow_from_directory(\"CATS_DOGS/train\", target_size=inputshape[:2], batch_size=batch_size, class_mode=\"binary\")\n",
    "\n",
    "test_image_gen = image_gen.flow_from_directory(\"CATS_DOGS/test\", target_size=inputshape[:2], batch_size=batch_size, class_mode=\"binary\")\n",
    "\n",
    "train_image_gen.class_indices"
   ]
  },
  {
   "cell_type": "code",
   "execution_count": 16,
   "metadata": {},
   "outputs": [
    {
     "name": "stderr",
     "output_type": "stream",
     "text": [
      "C:\\Users\\nryan\\AppData\\Local\\Temp\\ipykernel_36188\\2662774439.py:1: UserWarning: `Model.fit_generator` is deprecated and will be removed in a future version. Please use `Model.fit`, which supports generators.\n",
      "  results = model.fit_generator(train_image_gen, epochs=1, steps_per_epoch=150, validation_data=test_image_gen, validation_steps=12)\n"
     ]
    },
    {
     "name": "stdout",
     "output_type": "stream",
     "text": [
      "  3/150 [..............................] - ETA: 14:22 - loss: 1.1847 - accuracy: 0.4792 "
     ]
    }
   ],
   "source": [
    "results = model.fit_generator(train_image_gen, epochs=1, steps_per_epoch=150, validation_data=test_image_gen, validation_steps=12)"
   ]
  }
 ],
 "metadata": {
  "kernelspec": {
   "display_name": "tf",
   "language": "python",
   "name": "python3"
  },
  "language_info": {
   "codemirror_mode": {
    "name": "ipython",
    "version": 3
   },
   "file_extension": ".py",
   "mimetype": "text/x-python",
   "name": "python",
   "nbconvert_exporter": "python",
   "pygments_lexer": "ipython3",
   "version": "3.10.11"
  },
  "orig_nbformat": 4
 },
 "nbformat": 4,
 "nbformat_minor": 2
}
