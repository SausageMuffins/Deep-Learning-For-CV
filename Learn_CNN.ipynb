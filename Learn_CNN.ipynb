{
 "cells": [
  {
   "cell_type": "code",
   "execution_count": 23,
   "metadata": {},
   "outputs": [],
   "source": [
    "from keras.datasets import mnist\n",
    "from keras.utils import to_categorical\n",
    "from keras.models import Sequential\n",
    "from keras.layers import Dense, Conv2D, Flatten, MaxPooling2D # layers of CNN\n",
    "\n",
    "from sklearn.metrics import classification_report # for evaluation\n",
    "\n",
    "import matplotlib.pyplot as plt # for visualization"
   ]
  },
  {
   "cell_type": "code",
   "execution_count": 14,
   "metadata": {},
   "outputs": [],
   "source": [
    "(train_images, train_labels), (test_images, test_labels) = mnist.load_data()\n",
    "\n",
    "y_cat_train = to_categorical(train_labels, 10) # categorical data\n",
    "y_cat_test = to_categorical(test_labels, 10)\n",
    "\n",
    "\n",
    "# normalize data\n",
    "X_train = train_images / train_images.max() # normalize training set\n",
    "X_test = test_images / test_images.max() # normalize test set\n",
    "\n",
    "\n",
    "# reshape data to include colour channel\n",
    "X_train = X_train.reshape(60000, 28, 28, 1) # 60,000 images, 28x28 pixels, 1 colour channel\n",
    "X_test = X_test.reshape(10000, 28, 28, 1) # 10,000 images, 28x28 pixels, 1 colour channelq"
   ]
  },
  {
   "cell_type": "code",
   "execution_count": 19,
   "metadata": {},
   "outputs": [
    {
     "name": "stdout",
     "output_type": "stream",
     "text": [
      "Model: \"sequential_1\"\n",
      "_________________________________________________________________\n",
      " Layer (type)                Output Shape              Param #   \n",
      "=================================================================\n",
      " conv2d_1 (Conv2D)           (None, 26, 26, 64)        640       \n",
      "                                                                 \n",
      " max_pooling2d (MaxPooling2D  (None, 13, 13, 64)       0         \n",
      " )                                                               \n",
      "                                                                 \n",
      " flatten (Flatten)           (None, 10816)             0         \n",
      "                                                                 \n",
      " dense (Dense)               (None, 128)               1384576   \n",
      "                                                                 \n",
      " dense_1 (Dense)             (None, 10)                1290      \n",
      "                                                                 \n",
      "=================================================================\n",
      "Total params: 1,386,506\n",
      "Trainable params: 1,386,506\n",
      "Non-trainable params: 0\n",
      "_________________________________________________________________\n",
      "Epoch 1/3\n",
      "1875/1875 [==============================] - 59s 31ms/step - loss: 0.1380 - accuracy: 0.9585\n",
      "Epoch 2/3\n",
      "1875/1875 [==============================] - 56s 30ms/step - loss: 0.0466 - accuracy: 0.9861\n",
      "Epoch 3/3\n",
      "1875/1875 [==============================] - 60s 32ms/step - loss: 0.0303 - accuracy: 0.9903\n"
     ]
    },
    {
     "data": {
      "text/plain": [
       "<keras.callbacks.History at 0x2233538fb20>"
      ]
     },
     "execution_count": 19,
     "metadata": {},
     "output_type": "execute_result"
    }
   ],
   "source": [
    "model = Sequential()\n",
    "\n",
    "## add model layers ##\n",
    "\n",
    "# convolutional layer\n",
    "model.add(Conv2D(64, kernel_size=3, activation='relu', input_shape=(28,28,1))) # 64 filters, 3x3 kernel size, relu activation function, input shape - image shape.\n",
    "\n",
    "# pooling layer\n",
    "model.add(MaxPooling2D(pool_size=(2, 2))) # 2x2 pooling size\n",
    "\n",
    "# convert 2d -> 1d\n",
    "model.add(Flatten())\n",
    "\n",
    "# add dense layer\n",
    "model.add(Dense(128, activation='relu')) # 10 output nodes, softmax activation function\n",
    "\n",
    "# output dense layer\n",
    "model.add(Dense(10, activation='softmax')) # 10 output nodes, softmax activation function\n",
    "\n",
    "model.compile(optimizer='adam', loss='categorical_crossentropy', metrics=['accuracy'])\n",
    "\n",
    "model.summary()\n",
    "\n",
    "model.fit(X_train, y_cat_train, epochs=3)"
   ]
  },
  {
   "cell_type": "code",
   "execution_count": 25,
   "metadata": {},
   "outputs": [
    {
     "name": "stdout",
     "output_type": "stream",
     "text": [
      "313/313 [==============================] - 8s 25ms/step - loss: 0.0434 - accuracy: 0.9853\n"
     ]
    },
    {
     "data": {
      "text/plain": [
       "[0.04336216300725937, 0.9853000044822693]"
      ]
     },
     "execution_count": 25,
     "metadata": {},
     "output_type": "execute_result"
    }
   ],
   "source": [
    "model.evaluate(X_test, y_cat_test)"
   ]
  },
  {
   "cell_type": "code",
   "execution_count": 26,
   "metadata": {},
   "outputs": [
    {
     "name": "stdout",
     "output_type": "stream",
     "text": [
      "313/313 [==============================] - 7s 22ms/step\n",
      "              precision    recall  f1-score   support\n",
      "\n",
      "           0       0.99      0.99      0.99       980\n",
      "           1       1.00      0.99      0.99      1135\n",
      "           2       0.99      0.98      0.98      1032\n",
      "           3       0.99      0.98      0.99      1010\n",
      "           4       1.00      0.98      0.99       982\n",
      "           5       0.97      0.99      0.98       892\n",
      "           6       0.99      0.98      0.99       958\n",
      "           7       0.98      0.99      0.98      1028\n",
      "           8       1.00      0.96      0.98       974\n",
      "           9       0.98      0.99      0.98      1009\n",
      "\n",
      "   micro avg       0.99      0.98      0.99     10000\n",
      "   macro avg       0.99      0.98      0.99     10000\n",
      "weighted avg       0.99      0.98      0.99     10000\n",
      " samples avg       0.98      0.98      0.98     10000\n",
      "\n"
     ]
    },
    {
     "name": "stderr",
     "output_type": "stream",
     "text": [
      "c:\\Users\\nryan\\anaconda3\\envs\\tf\\lib\\site-packages\\sklearn\\metrics\\_classification.py:1344: UndefinedMetricWarning: Precision and F-score are ill-defined and being set to 0.0 in samples with no predicted labels. Use `zero_division` parameter to control this behavior.\n",
      "  _warn_prf(average, modifier, msg_start, len(result))\n"
     ]
    }
   ],
   "source": [
    "predictions = (model.predict(X_test) > 0.5).astype(\"int32\") # Prediction\n",
    "\n",
    "print(classification_report(y_cat_test, predictions))"
   ]
  },
  {
   "attachments": {},
   "cell_type": "markdown",
   "metadata": {},
   "source": [
    "# Learning CNN with CIFAR10"
   ]
  },
  {
   "cell_type": "code",
   "execution_count": 27,
   "metadata": {},
   "outputs": [],
   "source": [
    "from keras.datasets import cifar10"
   ]
  },
  {
   "cell_type": "code",
   "execution_count": 29,
   "metadata": {},
   "outputs": [],
   "source": [
    "# loda data\n",
    "(X_train, y_train), (X_test, y_test) = cifar10.load_data()\n",
    "\n",
    "# plt.imshow(X_train[2]) # coloured images with different labels.\n",
    "\n",
    "# normalize data\n",
    "X_train = X_train / X_train.max() # normalize training set\n",
    "X_test = X_test / X_test.max() # normalize test set\n",
    "\n",
    "# reshape data to include colour channel\n",
    "X_train = X_train.reshape(50000, 32, 32, 3) # 50,000 images, 32x32 pixels, 3 colour channels\n",
    "X_test = X_test.reshape(10000, 32, 32, 3) # 10,000 images, 32x32 pixels, 3 colour channels\n",
    "\n",
    "y_cat_train = to_categorical(y_train, 10) # categorical data with 10 possible labels.\n",
    "y_cat_test = to_categorical(y_test, 10) # categories for test data."
   ]
  },
  {
   "cell_type": "code",
   "execution_count": 30,
   "metadata": {},
   "outputs": [],
   "source": [
    "model = Sequential() # create model\n",
    "\n",
    "## add model layers ##\n",
    "# convolutional layer\n",
    "model.add(Conv2D(32, kernel_size=4, activation='relu', input_shape=(32,32,3))) # 32 filters, 4x4 kernel size, relu activation function, input shape - image shape.\n",
    "\n",
    "# pooling layer\n",
    "model.add(MaxPooling2D(pool_size=(2, 2))) # 2x2 pooling size\n",
    "\n",
    "# larger image that is more complex, add another convolutional layer!\n",
    "\n",
    "model.add(Conv2D(32, kernel_size=4, activation='relu', input_shape=(32,32,3))) # 32 filters, 4x4 kernel size, relu activation function, input shape - image shape.\n",
    "model.add(MaxPooling2D(pool_size=(2, 2))) # 2x2 pooling size\n",
    "\n",
    "\n",
    "model.add(Flatten()) # convert 2d -> 1d\n",
    "\n",
    "# add dense layer\n",
    "model.add(Dense(256, activation='relu')) # 256 output nodes, relu activation function\n",
    "\n",
    "# output layer\n",
    "model.add(Dense(10, activation='softmax')) # 10 output nodes, softmax activation function\n",
    "\n",
    "model.compile(optimizer='rmsprop', loss='categorical_crossentropy', metrics=['accuracy'])"
   ]
  },
  {
   "cell_type": "code",
   "execution_count": 31,
   "metadata": {},
   "outputs": [
    {
     "name": "stdout",
     "output_type": "stream",
     "text": [
      "Epoch 1/10\n",
      "1563/1563 [==============================] - 17s 10ms/step - loss: 1.5420 - accuracy: 0.4477\n",
      "Epoch 2/10\n",
      "1563/1563 [==============================] - 17s 11ms/step - loss: 1.1853 - accuracy: 0.5845\n",
      "Epoch 3/10\n",
      "1563/1563 [==============================] - 15s 10ms/step - loss: 1.0322 - accuracy: 0.6430\n",
      "Epoch 4/10\n",
      "1563/1563 [==============================] - 15s 9ms/step - loss: 0.9294 - accuracy: 0.6799\n",
      "Epoch 5/10\n",
      "1563/1563 [==============================] - 15s 9ms/step - loss: 0.8521 - accuracy: 0.7058\n",
      "Epoch 6/10\n",
      "1563/1563 [==============================] - 15s 10ms/step - loss: 0.7891 - accuracy: 0.7326\n",
      "Epoch 7/10\n",
      "1563/1563 [==============================] - 14s 9ms/step - loss: 0.7385 - accuracy: 0.7494\n",
      "Epoch 8/10\n",
      "1563/1563 [==============================] - 15s 10ms/step - loss: 0.6979 - accuracy: 0.7636\n",
      "Epoch 9/10\n",
      "1563/1563 [==============================] - 14s 9ms/step - loss: 0.6615 - accuracy: 0.7773\n",
      "Epoch 10/10\n",
      "1563/1563 [==============================] - 14s 9ms/step - loss: 0.6375 - accuracy: 0.7871\n",
      "313/313 [==============================] - 1s 3ms/step - loss: 1.1512 - accuracy: 0.6374\n"
     ]
    },
    {
     "data": {
      "text/plain": [
       "[1.1511510610580444, 0.6373999714851379]"
      ]
     },
     "execution_count": 31,
     "metadata": {},
     "output_type": "execute_result"
    }
   ],
   "source": [
    "model.fit(X_train, y_cat_train, epochs=10, verbose=1)\n",
    "\n",
    "model.evaluate(X_test, y_cat_test)"
   ]
  },
  {
   "cell_type": "code",
   "execution_count": 33,
   "metadata": {},
   "outputs": [
    {
     "name": "stdout",
     "output_type": "stream",
     "text": [
      "313/313 [==============================] - 1s 4ms/step\n",
      "              precision    recall  f1-score   support\n",
      "\n",
      "           0       0.71      0.66      0.68      1000\n",
      "           1       0.92      0.59      0.72      1000\n",
      "           2       0.54      0.57      0.56      1000\n",
      "           3       0.54      0.31      0.40      1000\n",
      "           4       0.77      0.42      0.54      1000\n",
      "           5       0.78      0.32      0.45      1000\n",
      "           6       0.69      0.77      0.73      1000\n",
      "           7       0.88      0.53      0.66      1000\n",
      "           8       0.73      0.78      0.75      1000\n",
      "           9       0.82      0.59      0.69      1000\n",
      "\n",
      "   micro avg       0.72      0.55      0.63     10000\n",
      "   macro avg       0.74      0.55      0.62     10000\n",
      "weighted avg       0.74      0.55      0.62     10000\n",
      " samples avg       0.55      0.55      0.55     10000\n",
      "\n"
     ]
    },
    {
     "name": "stderr",
     "output_type": "stream",
     "text": [
      "c:\\Users\\nryan\\anaconda3\\envs\\tf\\lib\\site-packages\\sklearn\\metrics\\_classification.py:1344: UndefinedMetricWarning: Precision and F-score are ill-defined and being set to 0.0 in samples with no predicted labels. Use `zero_division` parameter to control this behavior.\n",
      "  _warn_prf(average, modifier, msg_start, len(result))\n"
     ]
    }
   ],
   "source": [
    "predictions = (model.predict(X_test) > 0.5).astype(\"int32\") # Prediction\n",
    "\n",
    "print(classification_report(y_cat_test, predictions))\n",
    "\n",
    "# seems like category 8 did the best at 0.75 accuracy."
   ]
  }
 ],
 "metadata": {
  "kernelspec": {
   "display_name": "tf",
   "language": "python",
   "name": "python3"
  },
  "language_info": {
   "codemirror_mode": {
    "name": "ipython",
    "version": 3
   },
   "file_extension": ".py",
   "mimetype": "text/x-python",
   "name": "python",
   "nbconvert_exporter": "python",
   "pygments_lexer": "ipython3",
   "version": "3.10.11"
  },
  "orig_nbformat": 4
 },
 "nbformat": 4,
 "nbformat_minor": 2
}
